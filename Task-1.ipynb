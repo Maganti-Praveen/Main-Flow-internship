{
 "cells": [
  {
   "cell_type": "code",
   "execution_count": 1,
   "id": "33e6765d-94c6-4034-94db-507eb949b132",
   "metadata": {},
   "outputs": [
    {
     "name": "stdout",
     "output_type": "stream",
     "text": [
      "[10, 12, 16, 26, 3, 4, 21, 8]\n"
     ]
    }
   ],
   "source": [
    "#Creating a list\n",
    "l=[10,12,16,26,3,4,21,8]\n",
    "print(l)"
   ]
  },
  {
   "cell_type": "code",
   "execution_count": 2,
   "id": "8f4b32cc-d771-4d1d-a876-1792823f65f5",
   "metadata": {},
   "outputs": [
    {
     "name": "stdout",
     "output_type": "stream",
     "text": [
      "[10, 12, 16, 26, 3, 4, 21, 8, 28]\n",
      "[12, 16, 26, 3, 4, 21, 8, 28]\n"
     ]
    }
   ],
   "source": [
    "l.append(28)\n",
    "print(l)\n",
    "l.remove(10)\n",
    "print(l)"
   ]
  },
  {
   "cell_type": "code",
   "execution_count": 5,
   "id": "602ae5d7-ec8b-45f1-9c55-cc3aa4c48e44",
   "metadata": {},
   "outputs": [
    {
     "name": "stdout",
     "output_type": "stream",
     "text": [
      "Update List:  [12, 16, 26, 18, 4, 21, 8, 28]\n"
     ]
    }
   ],
   "source": [
    "l[3]=18\n",
    "print(\"Update List: \",l)\n"
   ]
  },
  {
   "cell_type": "code",
   "execution_count": 18,
   "id": "67716332-a93c-4e49-b74e-36b2c9ccf348",
   "metadata": {},
   "outputs": [
    {
     "data": {
      "text/plain": [
       "{'RCE': 'AUTONOMOUS', 'CRR': 'JNTUK', 'ELR': 'JNTUK', 'KLU': 'AUTONOMOUS'}"
      ]
     },
     "execution_count": 18,
     "metadata": {},
     "output_type": "execute_result"
    }
   ],
   "source": [
    "#creating a dictionary\n",
    "d={\"RCE\":\"AUTONOMOUS\",\"CRR\":\"JNTUK\",\"ELR\":\"JNTUK\",\"KLU\":\"AUTONOMOUS\"}\n",
    "d"
   ]
  },
  {
   "cell_type": "code",
   "execution_count": 19,
   "id": "3a2ad561-7957-4dd5-8887-71dfe0cffed2",
   "metadata": {},
   "outputs": [
    {
     "name": "stdout",
     "output_type": "stream",
     "text": [
      "Adding {'RCE': 'AUTONOMOUS', 'CRR': 'JNTUK', 'ELR': 'JNTUK', 'KLU': 'AUTONOMOUS', 'APPLE': 'RED'}\n",
      "Removing {'RCE': 'AUTONOMOUS', 'CRR': 'JNTUK', 'ELR': 'JNTUK', 'APPLE': 'RED'}\n"
     ]
    }
   ],
   "source": [
    "d[\"APPLE\"]=\"RED\"\n",
    "print(\"Adding\",d)\n",
    "del d[\"KLU\"]\n",
    "print(\"Removing\",d)"
   ]
  },
  {
   "cell_type": "code",
   "execution_count": 21,
   "id": "903e0dfc-3ef7-4598-be8f-968d448d1f16",
   "metadata": {},
   "outputs": [
    {
     "name": "stdout",
     "output_type": "stream",
     "text": [
      "Updated:  {'RCE': 'AUTONOMOUS', 'CRR': 'AUTONOMOUS', 'ELR': 'JNTUK', 'APPLE': 'RED'}\n"
     ]
    }
   ],
   "source": [
    "d[\"CRR\"]=\"AUTONOMOUS\"\n",
    "print(\"Updated: \",d)"
   ]
  },
  {
   "cell_type": "code",
   "execution_count": 24,
   "id": "d75e65ed-bfc0-4a72-bb88-ce425daefe3d",
   "metadata": {},
   "outputs": [
    {
     "name": "stdout",
     "output_type": "stream",
     "text": [
      "{1, 2, 3, 4, 5, 6}\n"
     ]
    },
    {
     "data": {
      "text/plain": [
       "set"
      ]
     },
     "execution_count": 24,
     "metadata": {},
     "output_type": "execute_result"
    }
   ],
   "source": [
    "#creating a set\n",
    "s={1,2,3,4,5,6}\n",
    "print(s)\n",
    "type(s)"
   ]
  },
  {
   "cell_type": "code",
   "execution_count": 25,
   "id": "b7eaec00-f3a7-473c-8571-9b37913efbbe",
   "metadata": {},
   "outputs": [
    {
     "name": "stdout",
     "output_type": "stream",
     "text": [
      "add: {1, 2, 3, 4, 5, 6, 8}\n",
      "remove {1, 2, 3, 4, 6, 8}\n"
     ]
    }
   ],
   "source": [
    "s.add(8)\n",
    "print(\"add:\",s)\n",
    "s.remove(5)\n",
    "print(\"remove\",s)"
   ]
  },
  {
   "cell_type": "code",
   "execution_count": 26,
   "id": "ce9f003a-983a-4564-91bd-6792c450ea22",
   "metadata": {},
   "outputs": [
    {
     "name": "stdout",
     "output_type": "stream",
     "text": [
      "Updated: {1, 2, 4, 6, 8, 12}\n"
     ]
    }
   ],
   "source": [
    "s.discard(3)\n",
    "s.add(12)\n",
    "print(\"Updated:\",s)"
   ]
  },
  {
   "cell_type": "code",
   "execution_count": null,
   "id": "0a39ff05-8dc7-40b2-b9c1-19422436a913",
   "metadata": {},
   "outputs": [],
   "source": []
  }
 ],
 "metadata": {
  "kernelspec": {
   "display_name": "Python 3 (ipykernel)",
   "language": "python",
   "name": "python3"
  },
  "language_info": {
   "codemirror_mode": {
    "name": "ipython",
    "version": 3
   },
   "file_extension": ".py",
   "mimetype": "text/x-python",
   "name": "python",
   "nbconvert_exporter": "python",
   "pygments_lexer": "ipython3",
   "version": "3.11.7"
  }
 },
 "nbformat": 4,
 "nbformat_minor": 5
}
